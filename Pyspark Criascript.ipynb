{
  "nbformat": 4,
  "nbformat_minor": 0,
  "metadata": {
    "colab": {
      "provenance": [],
      "mount_file_id": "1hB-wWVsSLlKDrSTFnkUwEEcTwCNNYeX3",
      "authorship_tag": "ABX9TyMInnX38IROmuzy+yc62C7I",
      "include_colab_link": true
    },
    "kernelspec": {
      "name": "python3",
      "display_name": "Python 3"
    },
    "language_info": {
      "name": "python"
    }
  },
  "cells": [
    {
      "cell_type": "markdown",
      "metadata": {
        "id": "view-in-github",
        "colab_type": "text"
      },
      "source": [
        "<a href=\"https://colab.research.google.com/github/Rafilksz/Pyspark-Criascript/blob/master/Pyspark%20Criascript.ipynb\" target=\"_parent\"><img src=\"https://colab.research.google.com/assets/colab-badge.svg\" alt=\"Open In Colab\"/></a>"
      ]
    },
    {
      "cell_type": "code",
      "source": [
        "!pip install pyspark"
      ],
      "metadata": {
        "colab": {
          "base_uri": "https://localhost:8080/"
        },
        "id": "rizjAhQxYfM8",
        "outputId": "c7779f35-636a-4127-ff36-f0aa847aef12"
      },
      "execution_count": null,
      "outputs": [
        {
          "output_type": "stream",
          "name": "stdout",
          "text": [
            "Collecting pyspark\n",
            "  Downloading pyspark-3.5.0.tar.gz (316.9 MB)\n",
            "\u001b[2K     \u001b[90m━━━━━━━━━━━━━━━━━━━━━━━━━━━━━━━━━━━━━━━━\u001b[0m \u001b[32m316.9/316.9 MB\u001b[0m \u001b[31m4.5 MB/s\u001b[0m eta \u001b[36m0:00:00\u001b[0m\n",
            "\u001b[?25h  Preparing metadata (setup.py) ... \u001b[?25l\u001b[?25hdone\n",
            "Requirement already satisfied: py4j==0.10.9.7 in /usr/local/lib/python3.10/dist-packages (from pyspark) (0.10.9.7)\n",
            "Building wheels for collected packages: pyspark\n",
            "  Building wheel for pyspark (setup.py) ... \u001b[?25l\u001b[?25hdone\n",
            "  Created wheel for pyspark: filename=pyspark-3.5.0-py2.py3-none-any.whl size=317425345 sha256=91b90d0d7fb8379541475c1200fd9d2cfa7fe0300191e558997c3c374bf670e4\n",
            "  Stored in directory: /root/.cache/pip/wheels/41/4e/10/c2cf2467f71c678cfc8a6b9ac9241e5e44a01940da8fbb17fc\n",
            "Successfully built pyspark\n",
            "Installing collected packages: pyspark\n",
            "Successfully installed pyspark-3.5.0\n"
          ]
        }
      ]
    },
    {
      "cell_type": "markdown",
      "source": [
        "#salve meu bom, refiz este notebook organizando tudo em um codigo só, sem separar por linhas, nao me critique\n",
        "#vou comentar a maioria do codigo para ficar clara minha linha de raciocinio kkkkkk se algo estiver errado avise"
      ],
      "metadata": {
        "id": "7iwy1glvYhz9"
      }
    },
    {
      "cell_type": "code",
      "execution_count": null,
      "metadata": {
        "id": "DkGcffvMYcCy"
      },
      "outputs": [],
      "source": [
        "from pyspark.sql import SparkSession\n",
        "from pyspark.sql.types import StructType, StructField, StringType, IntegerType, BooleanType, FloatType\n",
        "from pyspark.sql.functions import col, avg, min, max, from_unixtime, expr\n",
        "\n",
        "\n",
        "spark = SparkSession.builder.getOrCreate()#crio a seção\n",
        "\n",
        "arquivo = \"/content/drive/MyDrive/spotify.csv\"#indico caminho\n"
      ]
    },
    {
      "cell_type": "code",
      "source": [
        "# Definir o esquema de cada coluna da maneira que eu quero\n",
        "schema = StructType([\n",
        "    StructField(\"Unnamed: 0\", IntegerType(), True),\n",
        "    StructField(\"track_id\", StringType(), True),\n",
        "    StructField(\"artists\", StringType(), True),\n",
        "    StructField(\"album_name\", StringType(), True),\n",
        "    StructField(\"track_name\", StringType(), True),\n",
        "    StructField(\"popularity\", FloatType(), True),\n",
        "    StructField(\"duration_ms\", IntegerType(), True),\n",
        "    StructField(\"explicit\", BooleanType(), True),\n",
        "    StructField(\"danceability\", FloatType(), True),\n",
        "    StructField(\"energy\", FloatType(), True),\n",
        "    StructField(\"key\", IntegerType(), True),\n",
        "    StructField(\"loudness\", FloatType(), True),\n",
        "    StructField(\"mode\", IntegerType(), True),\n",
        "    StructField(\"speechiness\", FloatType(), True),\n",
        "    StructField(\"acousticness\", FloatType(), True),\n",
        "    StructField(\"instrumentalness\", FloatType(), True),\n",
        "    StructField(\"liveness\", FloatType(), True),\n",
        "    StructField(\"valence\", FloatType(), True),\n",
        "    StructField(\"tempo\", FloatType(), True),\n",
        "    StructField(\"time_signature\", FloatType(), True),\n",
        "    StructField(\"track_genre\", StringType(), True),\n",
        "])\n",
        "\n",
        "# Ler o arquivo CSV usando o esquema da forma que eu setei acima\n",
        "df = spark.read.format('csv') \\\n",
        "    .option('header', 'True') \\\n",
        "    .schema(schema) \\\n",
        "    .csv(arquivo)\n",
        "\n",
        "\n",
        "df.printSchema()#pedi o esquema para eu ver se ta da forma que eu setei"
      ],
      "metadata": {
        "colab": {
          "base_uri": "https://localhost:8080/"
        },
        "id": "XS7DyEk9Y730",
        "outputId": "1dc22c48-5ede-40ac-d447-a699743cea09"
      },
      "execution_count": null,
      "outputs": [
        {
          "output_type": "stream",
          "name": "stdout",
          "text": [
            "root\n",
            " |-- Unnamed: 0: integer (nullable = true)\n",
            " |-- track_id: string (nullable = true)\n",
            " |-- artists: string (nullable = true)\n",
            " |-- album_name: string (nullable = true)\n",
            " |-- track_name: string (nullable = true)\n",
            " |-- popularity: float (nullable = true)\n",
            " |-- duration_ms: integer (nullable = true)\n",
            " |-- explicit: boolean (nullable = true)\n",
            " |-- danceability: float (nullable = true)\n",
            " |-- energy: float (nullable = true)\n",
            " |-- key: integer (nullable = true)\n",
            " |-- loudness: float (nullable = true)\n",
            " |-- mode: integer (nullable = true)\n",
            " |-- speechiness: float (nullable = true)\n",
            " |-- acousticness: float (nullable = true)\n",
            " |-- instrumentalness: float (nullable = true)\n",
            " |-- liveness: float (nullable = true)\n",
            " |-- valence: float (nullable = true)\n",
            " |-- tempo: float (nullable = true)\n",
            " |-- time_signature: float (nullable = true)\n",
            " |-- track_genre: string (nullable = true)\n",
            "\n"
          ]
        }
      ]
    },
    {
      "cell_type": "code",
      "source": [
        "type(df)#confirmo se ta em pyspark, só por curiosidade"
      ],
      "metadata": {
        "colab": {
          "base_uri": "https://localhost:8080/"
        },
        "id": "yWb1-Lj_Y-WH",
        "outputId": "01c3adef-aeb9-4d99-a04d-b745f610064e"
      },
      "execution_count": null,
      "outputs": [
        {
          "output_type": "execute_result",
          "data": {
            "text/plain": [
              "pyspark.sql.dataframe.DataFrame"
            ]
          },
          "metadata": {},
          "execution_count": 5
        }
      ]
    },
    {
      "cell_type": "code",
      "source": [
        "df.take(5)#pego uma amostra de 5 para ver como fica"
      ],
      "metadata": {
        "colab": {
          "base_uri": "https://localhost:8080/"
        },
        "id": "gNsb9drFZBEZ",
        "outputId": "33e97ce2-455f-4f87-cfbe-def1372e0858"
      },
      "execution_count": null,
      "outputs": [
        {
          "output_type": "execute_result",
          "data": {
            "text/plain": [
              "[Row(Unnamed: 0=0, track_id='5SuOikwiRyPMVoIQDJUgSV', artists='Gen Hoshino', album_name='Comedy', track_name='Comedy', popularity=73.0, duration_ms=230666, explicit=False, danceability=0.6759999990463257, energy=0.460999995470047, key=1, loudness=-6.745999813079834, mode=0, speechiness=0.14300000667572021, acousticness=0.03220000118017197, instrumentalness=1.0100000054080738e-06, liveness=0.3580000102519989, valence=0.7149999737739563, tempo=87.91699981689453, time_signature=4.0, track_genre='acoustic'),\n",
              " Row(Unnamed: 0=1, track_id='4qPNDBW1i3p13qLCt0Ki3A', artists='Ben Woodward', album_name='Ghost (Acoustic)', track_name='Ghost - Acoustic', popularity=55.0, duration_ms=149610, explicit=False, danceability=0.41999998688697815, energy=0.16599999368190765, key=1, loudness=-17.235000610351562, mode=1, speechiness=0.0763000026345253, acousticness=0.9240000247955322, instrumentalness=5.559999863180565e-06, liveness=0.10100000351667404, valence=0.2669999897480011, tempo=77.48899841308594, time_signature=4.0, track_genre='acoustic'),\n",
              " Row(Unnamed: 0=2, track_id='1iJBSr7s7jYXzM8EGcbK5b', artists='Ingrid Michaelson;ZAYN', album_name='To Begin Again', track_name='To Begin Again', popularity=57.0, duration_ms=210826, explicit=False, danceability=0.43799999356269836, energy=0.35899999737739563, key=0, loudness=-9.734000205993652, mode=1, speechiness=0.05570000037550926, acousticness=0.20999999344348907, instrumentalness=0.0, liveness=0.11699999868869781, valence=0.11999999731779099, tempo=76.33200073242188, time_signature=4.0, track_genre='acoustic'),\n",
              " Row(Unnamed: 0=3, track_id='6lfxq3CG4xtTiEg7opyCyx', artists='Kina Grannis', album_name='Crazy Rich Asians (Original Motion Picture Soundtrack)', track_name=\"Can't Help Falling In Love\", popularity=71.0, duration_ms=201933, explicit=False, danceability=0.26600000262260437, energy=0.05959999933838844, key=0, loudness=-18.514999389648438, mode=1, speechiness=0.03629999980330467, acousticness=0.9049999713897705, instrumentalness=7.069999992381781e-05, liveness=0.13199999928474426, valence=0.14300000667572021, tempo=181.74000549316406, time_signature=3.0, track_genre='acoustic'),\n",
              " Row(Unnamed: 0=4, track_id='5vjLSffimiIP26QG5WcN2K', artists='Chord Overstreet', album_name='Hold On', track_name='Hold On', popularity=82.0, duration_ms=198853, explicit=False, danceability=0.6179999709129333, energy=0.4429999887943268, key=2, loudness=-9.680999755859375, mode=1, speechiness=0.05260000005364418, acousticness=0.4690000116825104, instrumentalness=0.0, liveness=0.08290000259876251, valence=0.16699999570846558, tempo=119.9489974975586, time_signature=4.0, track_genre='acoustic')]"
            ]
          },
          "metadata": {},
          "execution_count": 6
        }
      ]
    },
    {
      "cell_type": "code",
      "source": [
        "display(df.show(5))#aqui uso a função display para organizar esta merda e ficar mais bonito de ler"
      ],
      "metadata": {
        "colab": {
          "base_uri": "https://localhost:8080/",
          "height": 245
        },
        "id": "4pLmvSclZCuA",
        "outputId": "a4d3ccd2-3838-4ea3-8b5b-979fd0ca70cd"
      },
      "execution_count": null,
      "outputs": [
        {
          "output_type": "stream",
          "name": "stdout",
          "text": [
            "+----------+--------------------+--------------------+--------------------+--------------------+----------+-----------+--------+------------+------+---+--------+----+-----------+------------+----------------+--------+-------+-------+--------------+-----------+\n",
            "|Unnamed: 0|            track_id|             artists|          album_name|          track_name|popularity|duration_ms|explicit|danceability|energy|key|loudness|mode|speechiness|acousticness|instrumentalness|liveness|valence|  tempo|time_signature|track_genre|\n",
            "+----------+--------------------+--------------------+--------------------+--------------------+----------+-----------+--------+------------+------+---+--------+----+-----------+------------+----------------+--------+-------+-------+--------------+-----------+\n",
            "|         0|5SuOikwiRyPMVoIQD...|         Gen Hoshino|              Comedy|              Comedy|      73.0|     230666|   false|       0.676| 0.461|  1|  -6.746|   0|      0.143|      0.0322|         1.01E-6|   0.358|  0.715| 87.917|           4.0|   acoustic|\n",
            "|         1|4qPNDBW1i3p13qLCt...|        Ben Woodward|    Ghost (Acoustic)|    Ghost - Acoustic|      55.0|     149610|   false|        0.42| 0.166|  1| -17.235|   1|     0.0763|       0.924|         5.56E-6|   0.101|  0.267| 77.489|           4.0|   acoustic|\n",
            "|         2|1iJBSr7s7jYXzM8EG...|Ingrid Michaelson...|      To Begin Again|      To Begin Again|      57.0|     210826|   false|       0.438| 0.359|  0|  -9.734|   1|     0.0557|        0.21|             0.0|   0.117|   0.12| 76.332|           4.0|   acoustic|\n",
            "|         3|6lfxq3CG4xtTiEg7o...|        Kina Grannis|Crazy Rich Asians...|Can't Help Fallin...|      71.0|     201933|   false|       0.266|0.0596|  0| -18.515|   1|     0.0363|       0.905|         7.07E-5|   0.132|  0.143| 181.74|           3.0|   acoustic|\n",
            "|         4|5vjLSffimiIP26QG5...|    Chord Overstreet|             Hold On|             Hold On|      82.0|     198853|   false|       0.618| 0.443|  2|  -9.681|   1|     0.0526|       0.469|             0.0|  0.0829|  0.167|119.949|           4.0|   acoustic|\n",
            "+----------+--------------------+--------------------+--------------------+--------------------+----------+-----------+--------+------------+------+---+--------+----+-----------+------------+----------------+--------+-------+-------+--------------+-----------+\n",
            "only showing top 5 rows\n",
            "\n"
          ]
        },
        {
          "output_type": "display_data",
          "data": {
            "text/plain": [
              "None"
            ]
          },
          "metadata": {}
        }
      ]
    },
    {
      "cell_type": "code",
      "source": [
        "df.count()#conto quantas linhas tem esta bagaça"
      ],
      "metadata": {
        "colab": {
          "base_uri": "https://localhost:8080/"
        },
        "id": "27muQP7ZZFBL",
        "outputId": "b149cfd6-8232-4381-dfdb-f29b5fc5169b"
      },
      "execution_count": null,
      "outputs": [
        {
          "output_type": "execute_result",
          "data": {
            "text/plain": [
              "114000"
            ]
          },
          "metadata": {},
          "execution_count": 8
        }
      ]
    },
    {
      "cell_type": "code",
      "source": [
        "df.filter(\"popularity >= 95\").show(100)#filtro as que tem popularidade acima ou igual a 95 e printei todas até o limite de 100"
      ],
      "metadata": {
        "colab": {
          "base_uri": "https://localhost:8080/"
        },
        "id": "8aP1har4ZGeX",
        "outputId": "6e2126d0-b4b2-4be3-a6ec-edd2774e4c69"
      },
      "execution_count": null,
      "outputs": [
        {
          "output_type": "stream",
          "name": "stdout",
          "text": [
            "+----------+--------------------+--------------------+--------------------+--------------------+----------+-----------+--------+------------+------+---+--------+----+-----------+------------+----------------+--------+-------+-------+--------------+-----------+\n",
            "|Unnamed: 0|            track_id|             artists|          album_name|          track_name|popularity|duration_ms|explicit|danceability|energy|key|loudness|mode|speechiness|acousticness|instrumentalness|liveness|valence|  tempo|time_signature|track_genre|\n",
            "+----------+--------------------+--------------------+--------------------+--------------------+----------+-----------+--------+------------+------+---+--------+----+-----------+------------+----------------+--------+-------+-------+--------------+-----------+\n",
            "|     20000|5IgjP7X4th6nMNDh4...|         Chris Brown|   Indigo (Extended)| Under The Influence|      96.0|     184613|    true|       0.733|  0.69|  9|  -5.529|   0|     0.0427|      0.0635|         1.18E-6|   0.105|   0.31|116.992|           4.0|      dance|\n",
            "|     20001|3nqQXoyQOWXiESFLl...|Sam Smith;Kim Petras|Unholy (feat. Kim...|Unholy (feat. Kim...|     100.0|     156943|   false|       0.714| 0.472|  2|  -7.375|   1|     0.0864|       0.013|         4.51E-6|   0.266|  0.238|131.121|           4.0|      dance|\n",
            "|     20008|4uUG5RXrOk84mYEfF...|David Guetta;Bebe...|     I'm Good (Blue)|     I'm Good (Blue)|      98.0|     175238|    true|       0.561| 0.965|  7|  -3.673|   0|     0.0343|     0.00383|         7.07E-6|   0.371|  0.304| 128.04|           4.0|      dance|\n",
            "|     30003|4uUG5RXrOk84mYEfF...|David Guetta;Bebe...|     I'm Good (Blue)|     I'm Good (Blue)|      98.0|     175238|    true|       0.561| 0.965|  7|  -3.673|   0|     0.0343|     0.00383|         7.07E-6|   0.371|  0.304| 128.04|           4.0|        edm|\n",
            "|     51664|2tTmW7RDtMQtBk7m2...|    Bizarrap;Quevedo|Quevedo: Bzrp Mus...|Quevedo: Bzrp Mus...|      99.0|     198937|   false|       0.621| 0.782|  2|  -5.548|   1|      0.044|      0.0125|           0.033|    0.23|   0.55|128.033|           4.0|    hip-hop|\n",
            "|     67356|5ww2BF9slyYgNOk37...|       Manuel Turizo|          La Bachata|          La Bachata|      98.0|     162637|   false|       0.835| 0.679|  7|  -5.329|   0|     0.0364|       0.583|         1.98E-6|   0.218|   0.85| 124.98|           4.0|      latin|\n",
            "|     67358|6Sq7ltF9Qa7SNFBsV...|Bad Bunny;Chencho...|    Un Verano Sin Ti|     Me Porto Bonito|      97.0|     178567|    true|       0.911| 0.712|  1|  -5.105|   0|     0.0817|      0.0901|         2.68E-5|  0.0933|  0.425| 92.005|           4.0|      latin|\n",
            "|     67359|1IHWl5LamUGEuP4oz...|           Bad Bunny|    Un Verano Sin Ti|    Tití Me Preguntó|      97.0|     243716|   false|        0.65| 0.715|  5|  -5.198|   0|      0.253|      0.0993|         2.91E-4|   0.126|  0.187|106.672|           4.0|      latin|\n",
            "|     67500|3k3NWokhRRkEPhCzP...|Bad Bunny;Bomba E...|    Un Verano Sin Ti|       Ojitos Lindos|      95.0|     258298|   false|       0.647| 0.686|  3|  -5.745|   0|     0.0413|        0.08|         1.34E-6|   0.528|  0.268| 79.928|           4.0|      latin|\n",
            "|     67559|5Eax0qFko2dh7Rl2l...|           Bad Bunny|    Un Verano Sin Ti|              Efecto|      96.0|     213061|   false|       0.801| 0.475|  7|  -8.797|   0|     0.0516|       0.141|         1.73E-5|  0.0639|  0.234| 98.047|           4.0|      latin|\n",
            "|     68303|5ww2BF9slyYgNOk37...|       Manuel Turizo|          La Bachata|          La Bachata|      98.0|     162637|   false|       0.835| 0.679|  7|  -5.329|   0|     0.0364|       0.583|         1.98E-6|   0.218|   0.85| 124.98|           4.0|     latino|\n",
            "|     68304|1IHWl5LamUGEuP4oz...|           Bad Bunny|    Un Verano Sin Ti|    Tití Me Preguntó|      97.0|     243716|   false|        0.65| 0.715|  5|  -5.198|   0|      0.253|      0.0993|         2.91E-4|   0.126|  0.187|106.672|           4.0|     latino|\n",
            "|     68305|6Sq7ltF9Qa7SNFBsV...|Bad Bunny;Chencho...|    Un Verano Sin Ti|     Me Porto Bonito|      97.0|     178567|    true|       0.911| 0.712|  1|  -5.105|   0|     0.0817|      0.0901|         2.68E-5|  0.0933|  0.425| 92.005|           4.0|     latino|\n",
            "|     68353|3k3NWokhRRkEPhCzP...|Bad Bunny;Bomba E...|    Un Verano Sin Ti|       Ojitos Lindos|      95.0|     258298|   false|       0.647| 0.686|  3|  -5.745|   0|     0.0413|        0.08|         1.34E-6|   0.528|  0.268| 79.928|           4.0|     latino|\n",
            "|     68359|5Eax0qFko2dh7Rl2l...|           Bad Bunny|    Un Verano Sin Ti|              Efecto|      96.0|     213061|   false|       0.801| 0.475|  7|  -8.797|   0|     0.0516|       0.141|         1.73E-5|  0.0639|  0.234| 98.047|           4.0|     latino|\n",
            "|     79000|4h9wh7iOZ0GGn8QVp...|         OneRepublic|\"I Ain’t Worried ...|     I Ain't Worried|      96.0|     148485|   false|       0.704| 0.797|  0|  -5.927|   1|     0.0475|      0.0826|         7.45E-4|  0.0546|  0.825|139.994|           4.0|      piano|\n",
            "|     81003|5IgjP7X4th6nMNDh4...|         Chris Brown|   Indigo (Extended)| Under The Influence|      96.0|     184613|    true|       0.733|  0.69|  9|  -5.529|   0|     0.0427|      0.0635|         1.18E-6|   0.105|   0.31|116.992|           4.0|        pop|\n",
            "|     81051|3nqQXoyQOWXiESFLl...|Sam Smith;Kim Petras|Unholy (feat. Kim...|Unholy (feat. Kim...|     100.0|     156943|   false|       0.714| 0.472|  2|  -7.375|   1|     0.0864|       0.013|         4.51E-6|   0.266|  0.238|131.121|           4.0|        pop|\n",
            "|     81052|4LRPiXqCikLlN15c3...|        Harry Styles|           As It Was|           As It Was|      95.0|     167303|   false|        0.52| 0.731|  6|  -5.338|   0|     0.0557|       0.342|         0.00101|   0.311|  0.662| 173.93|           4.0|        pop|\n",
            "|     81174|4h9wh7iOZ0GGn8QVp...|         OneRepublic|\"I Ain’t Worried ...|     I Ain't Worried|      96.0|     148485|   false|       0.704| 0.797|  0|  -5.927|   1|     0.0475|      0.0826|         7.45E-4|  0.0546|  0.825|139.994|           4.0|        pop|\n",
            "|     81210|4uUG5RXrOk84mYEfF...|David Guetta;Bebe...|     I'm Good (Blue)|     I'm Good (Blue)|      98.0|     175238|    true|       0.561| 0.965|  7|  -3.673|   0|     0.0343|     0.00383|         7.07E-6|   0.371|  0.304| 128.04|           4.0|        pop|\n",
            "|     88405|6Sq7ltF9Qa7SNFBsV...|Bad Bunny;Chencho...|    Un Verano Sin Ti|     Me Porto Bonito|      97.0|     178567|    true|       0.911| 0.712|  1|  -5.105|   0|     0.0817|      0.0901|         2.68E-5|  0.0933|  0.425| 92.005|           4.0|     reggae|\n",
            "|     88407|1IHWl5LamUGEuP4oz...|           Bad Bunny|    Un Verano Sin Ti|    Tití Me Preguntó|      97.0|     243716|   false|        0.65| 0.715|  5|  -5.198|   0|      0.253|      0.0993|         2.91E-4|   0.126|  0.187|106.672|           4.0|     reggae|\n",
            "|     88410|5ww2BF9slyYgNOk37...|       Manuel Turizo|          La Bachata|          La Bachata|      98.0|     162637|   false|       0.835| 0.679|  7|  -5.329|   0|     0.0364|       0.583|         1.98E-6|   0.218|   0.85| 124.98|           4.0|     reggae|\n",
            "|     88451|5Eax0qFko2dh7Rl2l...|           Bad Bunny|    Un Verano Sin Ti|              Efecto|      95.0|     213061|   false|       0.801| 0.475|  7|  -8.797|   0|     0.0516|       0.141|         1.73E-5|  0.0639|  0.234| 98.047|           4.0|     reggae|\n",
            "|     89405|1IHWl5LamUGEuP4oz...|           Bad Bunny|    Un Verano Sin Ti|    Tití Me Preguntó|      97.0|     243716|   false|        0.65| 0.715|  5|  -5.198|   0|      0.253|      0.0993|         2.91E-4|   0.126|  0.187|106.672|           4.0|  reggaeton|\n",
            "|     89407|6Sq7ltF9Qa7SNFBsV...|Bad Bunny;Chencho...|    Un Verano Sin Ti|     Me Porto Bonito|      97.0|     178567|    true|       0.911| 0.712|  1|  -5.105|   0|     0.0817|      0.0901|         2.68E-5|  0.0933|  0.425| 92.005|           4.0|  reggaeton|\n",
            "|     89411|5ww2BF9slyYgNOk37...|       Manuel Turizo|          La Bachata|          La Bachata|      98.0|     162637|   false|       0.835| 0.679|  7|  -5.329|   0|     0.0364|       0.583|         1.98E-6|   0.218|   0.85| 124.98|           4.0|  reggaeton|\n",
            "|     89451|5Eax0qFko2dh7Rl2l...|           Bad Bunny|    Un Verano Sin Ti|              Efecto|      95.0|     213061|   false|       0.801| 0.475|  7|  -8.797|   0|     0.0516|       0.141|         1.73E-5|  0.0639|  0.234| 98.047|           4.0|  reggaeton|\n",
            "|     91003|4h9wh7iOZ0GGn8QVp...|         OneRepublic|\"I Ain’t Worried ...|     I Ain't Worried|      96.0|     148485|   false|       0.704| 0.797|  0|  -5.927|   1|     0.0475|      0.0826|         7.45E-4|  0.0546|  0.825|139.994|           4.0|       rock|\n",
            "+----------+--------------------+--------------------+--------------------+--------------------+----------+-----------+--------+------------+------+---+--------+----+-----------+------------+----------------+--------+-------+-------+--------------+-----------+\n",
            "\n"
          ]
        }
      ]
    },
    {
      "cell_type": "code",
      "source": [
        "#printei todos os estilos para escolher qual eu iria trabalhar\n",
        "#col é para referenciar colunas em pyspike\n",
        "genres = df.select(\"track_genre\").distinct().orderBy(col(\"track_genre\").asc()).collect()\n",
        "for genre_row in genres:\n",
        "    print(genre_row[\"track_genre\"])\n"
      ],
      "metadata": {
        "colab": {
          "base_uri": "https://localhost:8080/"
        },
        "id": "9jFDMjijZH8R",
        "outputId": "bbd3bfb6-391d-469a-df97-690d807d82eb"
      },
      "execution_count": null,
      "outputs": [
        {
          "output_type": "stream",
          "name": "stdout",
          "text": [
            "-12.753\n",
            "0.0898\n",
            "0.103\n",
            "0.114\n",
            "0.159\n",
            "0.34\n",
            "0.576\n",
            "0.983\n",
            "1\n",
            "1.5e-05\n",
            "10\n",
            "105.188\n",
            "114.211\n",
            "117.11\n",
            "121.165\n",
            "125.262\n",
            "131.721\n",
            "133.106\n",
            "133.67\n",
            "134.113\n",
            "148.759\n",
            "151.539\n",
            "3\n",
            "4\n",
            "5\n",
            "60.015\n",
            "68.453\n",
            "68.958\n",
            "7\n",
            "74.077\n",
            "76.691\n",
            "76.791\n",
            "81.078\n",
            "89.01\n",
            "89.912\n",
            "90.051\n",
            "91.467\n",
            "95.073\n",
            "acoustic\n",
            "afrobeat\n",
            "alt-rock\n",
            "alternative\n",
            "ambient\n",
            "anime\n",
            "black-metal\n",
            "bluegrass\n",
            "blues\n",
            "brazil\n",
            "breakbeat\n",
            "british\n",
            "cantopop\n",
            "chicago-house\n",
            "children\n",
            "chill\n",
            "classical\n",
            "club\n",
            "comedy\n",
            "country\n",
            "dance\n",
            "dancehall\n",
            "death-metal\n",
            "deep-house\n",
            "detroit-techno\n",
            "disco\n",
            "disney\n",
            "drum-and-bass\n",
            "dub\n",
            "dubstep\n",
            "edm\n",
            "electro\n",
            "electronic\n",
            "emo\n",
            "folk\n",
            "forro\n",
            "french\n",
            "funk\n",
            "garage\n",
            "german\n",
            "gospel\n",
            "goth\n",
            "grindcore\n",
            "groove\n",
            "grunge\n",
            "guitar\n",
            "happy\n",
            "hard-rock\n",
            "hardcore\n",
            "hardstyle\n",
            "heavy-metal\n",
            "hip-hop\n",
            "honky-tonk\n",
            "house\n",
            "idm\n",
            "indian\n",
            "indie\n",
            "indie-pop\n",
            "industrial\n",
            "iranian\n",
            "j-dance\n",
            "j-idol\n",
            "j-pop\n",
            "j-rock\n",
            "jazz\n",
            "k-pop\n",
            "kids\n",
            "latin\n",
            "latino\n",
            "malay\n",
            "mandopop\n",
            "metal\n",
            "metalcore\n",
            "minimal-techno\n",
            "mpb\n",
            "new-age\n",
            "opera\n",
            "pagode\n",
            "party\n",
            "piano\n",
            "pop\n",
            "pop-film\n",
            "power-pop\n",
            "progressive-house\n",
            "psych-rock\n",
            "punk\n",
            "punk-rock\n",
            "r-n-b\n",
            "reggae\n",
            "reggaeton\n",
            "rock\n",
            "rock-n-roll\n",
            "rockabilly\n",
            "romance\n",
            "sad\n",
            "salsa\n",
            "samba\n",
            "sertanejo\n",
            "show-tunes\n",
            "singer-songwriter\n",
            "ska\n",
            "sleep\n",
            "songwriter\n",
            "soul\n",
            "spanish\n",
            "study\n",
            "swedish\n",
            "synth-pop\n",
            "tango\n",
            "techno\n",
            "trance\n",
            "trip-hop\n",
            "turkish\n",
            "world-music\n"
          ]
        }
      ]
    },
    {
      "cell_type": "code",
      "source": [
        "#aqui vou pegar preferencia de musicas do aki ta gay, ja que ele disse que gosta de musica de anime, e existeo genero na lista\n",
        "\n",
        "df_anime = df.filter(df[\"track_genre\"] == \"anime\")#busco pelo genero anime\n",
        "df_anime_top10 = df_anime.orderBy(df_anime[\"popularity\"].desc()).limit(10)#ordeno por popularidade\n",
        "df_anime_top10.show(truncate=False)#mostro as 10 e dou truncate para ficar facil de ler e organizado\n",
        "\n",
        "saida_anime = \"/content/anime.csv\" #nome do arquivo de anime que tratei\n",
        "df_anime_top10.write.csv(saida_anime, header=True, mode=\"overwrite\")#salvei como csv para usar power bi\n",
        "\n"
      ],
      "metadata": {
        "id": "Kv2m0IoJZH6Y",
        "colab": {
          "base_uri": "https://localhost:8080/"
        },
        "outputId": "414548a1-e7b7-42ab-850a-ca917f10675a"
      },
      "execution_count": null,
      "outputs": [
        {
          "output_type": "stream",
          "name": "stdout",
          "text": [
            "+----------+----------------------+----------------+--------------------------+-----------------------------+----------+-----------+--------+------------+------+---+--------+----+-----------+------------+----------------+--------+-------+-------+--------------+-----------+\n",
            "|Unnamed: 0|track_id              |artists         |album_name                |track_name                   |popularity|duration_ms|explicit|danceability|energy|key|loudness|mode|speechiness|acousticness|instrumentalness|liveness|valence|tempo  |time_signature|track_genre|\n",
            "+----------+----------------------+----------------+--------------------------+-----------------------------+----------+-----------+--------+------------+------+---+--------+----+-----------+------------+----------------+--------+-------+-------+--------------+-----------+\n",
            "|5002      |3khEEPRyBeOUabbmOPJzAG|Kenshi Yonezu   |KICK BACK                 |KICK BACK                    |83.0      |193495     |false   |0.577       |0.941 |1  |-5.17   |1   |0.105      |0.00207     |3.36E-6         |0.0891  |0.292  |101.921|4.0           |anime      |\n",
            "|5022      |5elW2CKSoqjYoJ32AGDxf1|ENHYPEN         |DIMENSION : ANSWER        |Polaroid Love                |78.0      |184601     |false   |0.738       |0.67  |7  |-3.766  |0   |0.0439     |0.458       |0.0             |0.361   |0.651  |138.055|4.0           |anime      |\n",
            "|5021      |7v8wKvNQQIxkugCFFjrkaO|Aimer           |残響散歌                  |残響散歌                     |77.0      |184893     |false   |0.367       |0.896 |11 |-4.002  |1   |0.091      |6.27E-4     |0.0             |0.207   |0.38   |170.863|4.0           |anime      |\n",
            "|5007      |0UzymivvUH5s8z4PeWZJaK|ENHYPEN         |BORDER : CARNIVAL         |FEVER                        |77.0      |172106     |false   |0.6         |0.713 |6  |-5.079  |0   |0.0592     |0.0642      |0.0             |0.142   |0.471  |72.999 |4.0           |anime      |\n",
            "|5039      |6PRy17C5LiiN7VCLS6IA98|ENHYPEN         |MANIFESTO : DAY 1         |Future Perfect (Pass the MIC)|77.0      |180750     |false   |0.658       |0.9   |9  |-3.479  |0   |0.264      |0.0364      |0.0             |0.0771  |0.526  |156.096|4.0           |anime      |\n",
            "|5482      |4NaaF28BeO9WzjDrSS71Nz|Mrs. GREEN APPLE|ダンスホール              |ダンスホール                 |77.0      |203149     |false   |0.736       |0.695 |7  |-3.87   |1   |0.0468     |0.0209      |0.0             |0.0517  |0.784  |109.976|4.0           |anime      |\n",
            "|5005      |6y4GYuZszeXNOXuBFsJlos|Eve             |Kaikai Kitan / Ao No Waltz|Kaikai Kitan                 |75.0      |221426     |false   |0.584       |0.911 |5  |-3.515  |0   |0.09       |0.0119      |0.0             |0.119   |0.606  |92.502 |4.0           |anime      |\n",
            "|5027      |1wcr8DjnN59Awev8nnKpQ4|ENHYPEN         |BORDER : CARNIVAL         |Drunk-Dazed                  |75.0      |193260     |false   |0.599       |0.869 |5  |-5.174  |0   |0.0618     |7.07E-4     |0.0             |0.0911  |0.453  |132.889|4.0           |anime      |\n",
            "|5227      |2uMNMcjjUz8oNIxjIu20qE|SEKAI NO OWARI  |Habit                     |Habit                        |75.0      |253153     |false   |0.749       |0.85  |10 |-5.39   |0   |0.126      |0.203       |0.0             |0.18    |0.912  |117.968|4.0           |anime      |\n",
            "|5015      |0qMip0B2D4ePEjBJvAtYre|LiSA            |LEO-NiNE                  |紅蓮華                       |74.0      |237586     |false   |0.541       |0.977 |4  |-2.828  |0   |0.157      |0.00321     |5.13E-5         |0.0796  |0.263  |134.938|4.0           |anime      |\n",
            "+----------+----------------------+----------------+--------------------------+-----------------------------+----------+-----------+--------+------------+------+---+--------+----+-----------+------------+----------------+--------+-------+-------+--------------+-----------+\n",
            "\n"
          ]
        }
      ]
    },
    {
      "cell_type": "code",
      "source": [
        "#o mesmo acima para o cria, ja que ele gosta de musica \"skate\" vou meter um charlie marrom juninho\n",
        "\n",
        "df_charlie_brown = df.filter(df[\"artists\"].like(f\"%Charlie Brown Jr.%\"))# Buscar músicas do artista \"Charlie Brown Jr.\"\n",
        "df_charlie_brown_unique = df_charlie_brown.dropDuplicates([\"track_name\"]) \\\n",
        "    .orderBy(col(\"popularity\").desc()) \\\n",
        "    .limit(10)# Remover duplicatas na coluna \"track_name\" e ordenar por popularidade\n",
        "df_charlie_brown_unique.show(truncate=False)# Mostrar as 10 músicas únicas do artista \"Charlie Brown Jr.\" ordenadas por popularidade\n",
        "\n",
        "saida_skate = \"/content/skate.csv\" #nome do arquivo de skate que tratei\n",
        "df_charlie_brown_unique.write.csv(saida_skate, header=True, mode=\"overwrite\")#salvei como csv para usar power bi\n"
      ],
      "metadata": {
        "colab": {
          "base_uri": "https://localhost:8080/"
        },
        "id": "1YJrGqWOZH2W",
        "outputId": "64db0b93-6edb-4be7-d6f0-2a568e0c89b4"
      },
      "execution_count": null,
      "outputs": [
        {
          "output_type": "stream",
          "name": "stdout",
          "text": [
            "+----------+----------------------+------------------------------+-----------------------------------------------+----------------------------------------------------------------------------------+----------+-----------+--------+------------+------+---+--------+----+-----------+------------+----------------+--------+-------+-------+--------------+-----------+\n",
            "|Unnamed: 0|track_id              |artists                       |album_name                                     |track_name                                                                        |popularity|duration_ms|explicit|danceability|energy|key|loudness|mode|speechiness|acousticness|instrumentalness|liveness|valence|tempo  |time_signature|track_genre|\n",
            "+----------+----------------------+------------------------------+-----------------------------------------------+----------------------------------------------------------------------------------+----------+-----------+--------+------------+------+---+--------+----+-----------+------------+----------------+--------+-------+-------+--------------+-----------+\n",
            "|2211      |2QGuFhaQDrGKqtkOgItDJS|Charlie Brown Jr.             |Acústico (Ao Vivo)                             |Zoio De Lula - Ao Vivo                                                            |55.0      |224973     |false   |0.632       |0.866 |1  |-5.445  |0   |0.0488     |0.0556      |5.75E-6         |0.518   |0.835  |87.785 |4.0           |alt-rock   |\n",
            "|2314      |3JRi5bymnIQ2fhIetoOm3r|Charlie Brown Jr.             |Acústico (Ao Vivo)                             |Só Por Uma Noite - Ao Vivo                                                        |53.0      |190400     |false   |0.568       |0.94  |4  |-6.414  |1   |0.0402     |0.0366      |0.00314         |0.735   |0.738  |114.873|4.0           |alt-rock   |\n",
            "|2419      |2HegWuw33lBqopjopozt7N|Charlie Brown Jr.             |Acústico (Ao Vivo)                             |O Preço - Ao Vivo                                                                 |51.0      |193933     |false   |0.417       |0.959 |3  |-5.853  |0   |0.154      |0.0741      |2.43E-4         |0.764   |0.522  |82.771 |4.0           |alt-rock   |\n",
            "|87137     |2DqZ957WcDhSfsQN3wt14S|Charlie Brown Jr.             |Chegou Quem Faltava - Versão Completa (Ao Vivo)|Three Little Birds - Ao Vivo - Chegou Quem Faltava                                |51.0      |133653     |false   |0.638       |0.7   |8  |-7.466  |1   |0.12       |0.242       |0.0             |0.761   |0.649  |74.943 |4.0           |r-n-b      |\n",
            "|2422      |1aKSNq3Skm9MIIksjx5bFy|Charlie Brown Jr.             |De 1997 A 2007                                 |Vícios E Virtudes - Ao Vivo                                                       |51.0      |189413     |false   |0.378       |0.916 |8  |-7.516  |1   |0.0921     |0.024       |3.81E-4         |0.988   |0.622  |93.065 |4.0           |alt-rock   |\n",
            "|87110     |6UBSmORaOAviaRrMEZRNH9|Charlie Brown Jr.             |Acústico (Ao Vivo)                             |O Que É Da Casa, É Da Casa / Papo Reto (Prazer É Sexo O Resto É Negocio) - Ao Vivo|49.0      |272000     |false   |0.437       |0.978 |6  |-5.107  |1   |0.0852     |0.0104      |3.52E-4         |0.468   |0.58   |100.54 |4.0           |r-n-b      |\n",
            "|2526      |2m2QV4YsDoVNQ9Y6THdSg4|Charlie Brown Jr.             |Imunidade Musical                              |Aquela Paz                                                                        |49.0      |176960     |false   |0.586       |0.487 |11 |-9.29   |1   |0.0341     |0.769       |1.0E-4          |0.181   |0.693  |123.897|5.0           |alt-rock   |\n",
            "|9171      |6iGnVMtuISrHb0SQyGe3YA|Charlie Brown Jr.             |De 1997 A 2007                                 |Tudo Que Ela Gosta De Escutar                                                     |49.0      |174262     |false   |0.852       |0.621 |5  |-3.843  |0   |0.0483     |0.126       |1.43E-5         |0.038   |0.896  |115.374|4.0           |brazil     |\n",
            "|2572      |31uiFApsv5BVunx9bypX6u|Charlie Brown Jr.;Marcelo Nova|Acústico (Ao Vivo)                             |Hoje - Ao Vivo                                                                    |48.0      |262533     |false   |0.589       |0.967 |8  |-6.05   |1   |0.0751     |0.0163      |5.83E-6         |0.84    |0.44   |114.154|4.0           |alt-rock   |\n",
            "|2624      |3QoydK0LFOpK0JnfIpCffR|Charlie Brown Jr.             |Acústico (Ao Vivo)                             |O Coro Vai Come - Ao Vivo                                                         |48.0      |128106     |false   |0.511       |0.981 |0  |-5.329  |0   |0.0579     |0.0301      |0.0612          |0.747   |0.896  |172.968|4.0           |alt-rock   |\n",
            "+----------+----------------------+------------------------------+-----------------------------------------------+----------------------------------------------------------------------------------+----------+-----------+--------+------------+------+---+--------+----+-----------+------------+----------------+--------+-------+-------+--------------+-----------+\n",
            "\n"
          ]
        }
      ]
    },
    {
      "cell_type": "code",
      "source": [
        "df_popular = df.filter(\"popularity >= 95\")# Filtrar por popularidade acima ou igual a 95\n",
        "df_popular_unique_sorted = df_popular.dropDuplicates([\"track_name\"]) \\\n",
        "    .orderBy(col(\"popularity\").cast(\"double\").desc())# Remover duplicatas na coluna \"track_name\" e ordenar por popularidade em ordem decrescente\n",
        "df_popular_unique_sorted.show(100, truncate=False)# Mostrar as músicas únicas com popularidade acima de 95, ordenadas por popularidade em ordem decrescente\n",
        "\n",
        "saida_pop100_95 = \"/content/pop95mais.csv\" #nome do arquivo de populares nota acima 95 que tratei\n",
        "df_popular_unique_sorted.write.csv(saida_pop100_95, header=True, mode=\"overwrite\")#salvei como csv para usar power bi\n"
      ],
      "metadata": {
        "colab": {
          "base_uri": "https://localhost:8080/"
        },
        "id": "oy2ka-_BZHzF",
        "outputId": "e4020e07-d881-4725-b23f-f05e5728d2d5"
      },
      "execution_count": null,
      "outputs": [
        {
          "output_type": "stream",
          "name": "stdout",
          "text": [
            "+----------+----------------------+--------------------------+-----------------------------------------------------------------------+-------------------------------------+----------+-----------+--------+------------+------+---+--------+----+-----------+------------+----------------+--------+-------+-------+--------------+-----------+\n",
            "|Unnamed: 0|track_id              |artists                   |album_name                                                             |track_name                           |popularity|duration_ms|explicit|danceability|energy|key|loudness|mode|speechiness|acousticness|instrumentalness|liveness|valence|tempo  |time_signature|track_genre|\n",
            "+----------+----------------------+--------------------------+-----------------------------------------------------------------------+-------------------------------------+----------+-----------+--------+------------+------+---+--------+----+-----------+------------+----------------+--------+-------+-------+--------------+-----------+\n",
            "|20001     |3nqQXoyQOWXiESFLlDF1hG|Sam Smith;Kim Petras      |Unholy (feat. Kim Petras)                                              |Unholy (feat. Kim Petras)            |100.0     |156943     |false   |0.714       |0.472 |2  |-7.375  |1   |0.0864     |0.013       |4.51E-6         |0.266   |0.238  |131.121|4.0           |dance      |\n",
            "|51664     |2tTmW7RDtMQtBk7m2rYeSw|Bizarrap;Quevedo          |Quevedo: Bzrp Music Sessions, Vol. 52                                  |Quevedo: Bzrp Music Sessions, Vol. 52|99.0      |198937     |false   |0.621       |0.782 |2  |-5.548  |1   |0.044      |0.0125      |0.033           |0.23    |0.55   |128.033|4.0           |hip-hop    |\n",
            "|20008     |4uUG5RXrOk84mYEfFvj3cK|David Guetta;Bebe Rexha   |I'm Good (Blue)                                                        |I'm Good (Blue)                      |98.0      |175238     |true    |0.561       |0.965 |7  |-3.673  |0   |0.0343     |0.00383     |7.07E-6         |0.371   |0.304  |128.04 |4.0           |dance      |\n",
            "|67356     |5ww2BF9slyYgNOk37BlC4u|Manuel Turizo             |La Bachata                                                             |La Bachata                           |98.0      |162637     |false   |0.835       |0.679 |7  |-5.329  |0   |0.0364     |0.583       |1.98E-6         |0.218   |0.85   |124.98 |4.0           |latin      |\n",
            "|67358     |6Sq7ltF9Qa7SNFBsV5Cogx|Bad Bunny;Chencho Corleone|Un Verano Sin Ti                                                       |Me Porto Bonito                      |97.0      |178567     |true    |0.911       |0.712 |1  |-5.105  |0   |0.0817     |0.0901      |2.68E-5         |0.0933  |0.425  |92.005 |4.0           |latin      |\n",
            "|67359     |1IHWl5LamUGEuP4ozKQSXZ|Bad Bunny                 |Un Verano Sin Ti                                                       |Tití Me Preguntó                     |97.0      |243716     |false   |0.65        |0.715 |5  |-5.198  |0   |0.253      |0.0993      |2.91E-4         |0.126   |0.187  |106.672|4.0           |latin      |\n",
            "|67559     |5Eax0qFko2dh7Rl2lYs3bx|Bad Bunny                 |Un Verano Sin Ti                                                       |Efecto                               |96.0      |213061     |false   |0.801       |0.475 |7  |-8.797  |0   |0.0516     |0.141       |1.73E-5         |0.0639  |0.234  |98.047 |4.0           |latin      |\n",
            "|79000     |4h9wh7iOZ0GGn8QVp4RAOB|OneRepublic               |\"I Ain’t Worried (Music From The Motion Picture \"\"Top Gun: Maverick\"\")\"|I Ain't Worried                      |96.0      |148485     |false   |0.704       |0.797 |0  |-5.927  |1   |0.0475     |0.0826      |7.45E-4         |0.0546  |0.825  |139.994|4.0           |piano      |\n",
            "|20000     |5IgjP7X4th6nMNDh4akUHb|Chris Brown               |Indigo (Extended)                                                      |Under The Influence                  |96.0      |184613     |true    |0.733       |0.69  |9  |-5.529  |0   |0.0427     |0.0635      |1.18E-6         |0.105   |0.31   |116.992|4.0           |dance      |\n",
            "|81052     |4LRPiXqCikLlN15c3yImP7|Harry Styles              |As It Was                                                              |As It Was                            |95.0      |167303     |false   |0.52        |0.731 |6  |-5.338  |0   |0.0557     |0.342       |0.00101         |0.311   |0.662  |173.93 |4.0           |pop        |\n",
            "|67500     |3k3NWokhRRkEPhCzPmV8TW|Bad Bunny;Bomba Estéreo   |Un Verano Sin Ti                                                       |Ojitos Lindos                        |95.0      |258298     |false   |0.647       |0.686 |3  |-5.745  |0   |0.0413     |0.08        |1.34E-6         |0.528   |0.268  |79.928 |4.0           |latin      |\n",
            "+----------+----------------------+--------------------------+-----------------------------------------------------------------------+-------------------------------------+----------+-----------+--------+------------+------+---+--------+----+-----------+------------+----------------+--------+-------+-------+--------------+-----------+\n",
            "\n"
          ]
        }
      ]
    },
    {
      "cell_type": "code",
      "source": [
        "# Calcular estatísticas de danceability\n",
        "danceability_stats = df.select(avg(\"danceability\").alias(\"avg_danceability\"),\n",
        "                               min(\"danceability\").alias(\"min_danceability\"),\n",
        "                               max(\"danceability\").alias(\"max_danceability\")).first()\n",
        "\n",
        "# Média, Mínimo e Máximo de Danceability\n",
        "avg_danceability = danceability_stats[\"avg_danceability\"]\n",
        "min_danceability = danceability_stats[\"min_danceability\"]\n",
        "max_danceability = danceability_stats[\"max_danceability\"]\n",
        "\n",
        "# Mostrar as estatísticas\n",
        "print(\"Média de Danceability:\", avg_danceability)\n",
        "print(\"Danceability Mínimo:\", min_danceability)\n",
        "print(\"Danceability Máximo:\", max_danceability)\n",
        "\n",
        "# Exibir detalhes das músicas correspondentes ao mínimo e máximo de danceability\n",
        "print(\"\\nDetalhes da Música com Danceability Mínimo:\")\n",
        "df_min_danceability = df.filter(col(\"danceability\") == min_danceability).limit(1)\n",
        "df_min_danceability.select(\"track_name\", \"artists\", \"danceability\").show(truncate=False)\n",
        "\n",
        "print(\"\\nDetalhes da Música com Danceability Máximo:\")\n",
        "df_max_danceability = df.filter(col(\"danceability\") == max_danceability).limit(1)\n",
        "df_max_danceability.select(\"track_name\", \"artists\", \"danceability\").show(truncate=False)\n",
        "\n",
        "\n",
        "# Especificar o caminho onde você deseja salvar o arquivo CSV para as estatísticas de danceability\n",
        "caminho_arquivo_danceability_stats = \"/content/danceability_stats.csv\"\n",
        "\n",
        "# Criar DataFrame para as estatísticas de danceability\n",
        "df_danceability_stats = spark.createDataFrame([(avg_danceability, min_danceability, max_danceability)],\n",
        "                                              [\"avg_danceability\", \"min_danceability\", \"max_danceability\"])\n",
        "\n",
        "# Salvar o DataFrame em formato CSV\n",
        "df_danceability_stats.write.csv(caminho_arquivo_danceability_stats, header=True, mode=\"overwrite\")\n",
        "\n",
        "# Especificar o caminho onde você deseja salvar os arquivos CSV para as músicas com danceability mínimo e máximo\n",
        "caminho_arquivo_min_danceability = \"/content/min_danceability.csv\"\n",
        "caminho_arquivo_max_danceability = \"/content//max_danceability.csv\"\n",
        "\n",
        "# Salvar os DataFrames em formato CSV\n",
        "df_min_danceability.write.csv(caminho_arquivo_min_danceability, header=True, mode=\"overwrite\")\n",
        "df_max_danceability.write.csv(caminho_arquivo_max_danceability, header=True, mode=\"overwrite\")\n",
        "\n"
      ],
      "metadata": {
        "colab": {
          "base_uri": "https://localhost:8080/"
        },
        "id": "hhlTAnbBZHvf",
        "outputId": "757fd284-eab4-46ea-8232-4e0b5bbca1ec"
      },
      "execution_count": null,
      "outputs": [
        {
          "output_type": "stream",
          "name": "stdout",
          "text": [
            "Média de Danceability: 31.79821658843467\n",
            "Danceability Mínimo: 0.0\n",
            "Danceability Máximo: 549809.0\n",
            "\n",
            "Detalhes da Música com Danceability Mínimo:\n",
            "+-------------+---------------------+------------+\n",
            "|track_name   |artists              |danceability|\n",
            "+-------------+---------------------+------------+\n",
            "|The Departure|Max Richter;Lang Lang|0.0         |\n",
            "+-------------+---------------------+------------+\n",
            "\n",
            "\n",
            "Detalhes da Música com Danceability Máximo:\n",
            "+--------------+-----------+------------+\n",
            "|track_name    |artists    |danceability|\n",
            "+--------------+-----------+------------+\n",
            "| Live in Odeon|Estas Tonne|549809.0    |\n",
            "+--------------+-----------+------------+\n",
            "\n"
          ]
        }
      ]
    },
    {
      "cell_type": "code",
      "source": [
        "# Calcular estatísticas de loudness\n",
        "loudness_stats = df.select(avg(\"loudness\").alias(\"avg_loudness\"),\n",
        "                           min(\"loudness\").alias(\"min_loudness\"),\n",
        "                           max(\"loudness\").alias(\"max_loudness\")).first()\n",
        "\n",
        "# Média, Mínimo e Máximo de Loudness\n",
        "avg_loudness = loudness_stats[\"avg_loudness\"]\n",
        "min_loudness = loudness_stats[\"min_loudness\"]\n",
        "max_loudness = loudness_stats[\"max_loudness\"]\n",
        "\n",
        "# Mostrar as estatísticas\n",
        "print(\"Média de Loudness:\", avg_loudness)\n",
        "print(\"Loudness Mínimo:\", min_loudness)\n",
        "print(\"Loudness Máximo:\", max_loudness)\n",
        "\n",
        "# Exibir detalhes das músicas correspondentes  mínimo e máximo de loudness\n",
        "print(\"\\nDetalhes da Música com Loudness Mínimo:\")\n",
        "df_min_loudness = df.filter(col(\"loudness\") == min_loudness).limit(1)\n",
        "df_min_loudness.select(\"track_name\", \"artists\", \"loudness\").show(truncate=False)\n",
        "\n",
        "print(\"\\nDetalhes da Música com Loudness Máximo:\")\n",
        "df_max_loudness = df.filter(col(\"loudness\") == max_loudness).limit(1)\n",
        "df_max_loudness.select(\"track_name\", \"artists\", \"loudness\").show(truncate=False)\n",
        "\n",
        "\n",
        "\n",
        "# Especificar o caminho onde você deseja salvar o arquivo CSV para as estatísticas de loudness\n",
        "caminho_arquivo_loudness_stats = \"/content/loudness_stats.csv\"\n",
        "\n",
        "# Criar DataFrame para as estatísticas de loudness\n",
        "df_loudness_stats = spark.createDataFrame([(avg_loudness, min_loudness, max_loudness)],\n",
        "                                          [\"avg_loudness\", \"min_loudness\", \"max_loudness\"])\n",
        "\n",
        "# Salvar o DataFrame em formato CSV\n",
        "df_loudness_stats.write.csv(caminho_arquivo_loudness_stats, header=True, mode=\"overwrite\")\n",
        "\n",
        "\n",
        "# Especificar o caminho onde você deseja salvar os arquivos CSV para as músicas com loudness mínimo e máximo\n",
        "caminho_arquivo_min_loudness = \"/content/min_loudness.csv\"\n",
        "caminho_arquivo_max_loudness = \"/content/max_loudness.csv\"\n",
        "\n",
        "# Salvar os DataFrames em formato CSV\n",
        "df_min_loudness.write.csv(caminho_arquivo_min_loudness, header=True, mode=\"overwrite\")\n",
        "df_max_loudness.write.csv(caminho_arquivo_max_loudness, header=True, mode=\"overwrite\")\n",
        "\n",
        "\n"
      ],
      "metadata": {
        "colab": {
          "base_uri": "https://localhost:8080/"
        },
        "id": "XiezkQpeZHr7",
        "outputId": "d9b3051b-84d1-4373-b456-82ff9dc6c1e3"
      },
      "execution_count": null,
      "outputs": [
        {
          "output_type": "stream",
          "name": "stdout",
          "text": [
            "Média de Loudness: 0.051286616845378837\n",
            "Loudness Mínimo: -49.53099822998047\n",
            "Loudness Máximo: 471050.0\n",
            "\n",
            "Detalhes da Música com Loudness Mínimo:\n",
            "+--------------------------------------------+------------------------+--------+\n",
            "|track_name                                  |artists                 |loudness|\n",
            "+--------------------------------------------+------------------------+--------+\n",
            "|Soothing White Noise - Loopable With No Fade|White Noise Sleep Sounds|-49.531 |\n",
            "+--------------------------------------------+------------------------+--------+\n",
            "\n",
            "\n",
            "Detalhes da Música com Loudness Máximo:\n",
            "+-----------+-------------------+--------+\n",
            "|track_name |artists            |loudness|\n",
            "+-----------+-------------------+--------+\n",
            "| Snuff Crew|Robert Owens;Atjazz|471050.0|\n",
            "+-----------+-------------------+--------+\n",
            "\n"
          ]
        }
      ]
    },
    {
      "cell_type": "code",
      "source": [
        "df.write.csv('/content/minha_tarefa_dataframe.csv', header=True, mode='overwrite')#salvo a porra toda"
      ],
      "metadata": {
        "id": "Fj0pzMsAZHnP"
      },
      "execution_count": null,
      "outputs": []
    },
    {
      "cell_type": "markdown",
      "source": [
        "Terminei, agora vou FAZER O DASHBOARD DISSO\n",
        "\n",
        "apos concluir, ja posso falar que tenho dado em casa?\n"
      ],
      "metadata": {
        "id": "KNUIOGm-ZkxP"
      }
    }
  ]
}